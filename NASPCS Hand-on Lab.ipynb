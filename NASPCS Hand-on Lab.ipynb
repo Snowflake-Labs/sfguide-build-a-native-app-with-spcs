{
 "metadata": {
  "kernelspec": {
   "display_name": "Streamlit Notebook",
   "name": "streamlit"
  },
  "lastEditStatus": {
   "notebookId": "a6mufcluxuocysyv6dul",
   "authorId": "2570969090894",
   "authorName": "USER",
   "authorEmail": "",
   "sessionId": "e680eac8-5ede-4be8-aa36-767e32f4acbb",
   "lastEditTime": 1749139911641
  }
 },
 "nbformat_minor": 5,
 "nbformat": 4,
 "cells": [
  {
   "cell_type": "markdown",
   "id": "0af89343-6f32-487c-a692-f14dcf563b46",
   "metadata": {
    "name": "c1",
    "collapsed": false
   },
   "source": "#### Native App Provider Setup"
  },
  {
   "cell_type": "code",
   "id": "3775908f-ca36-4846-8f38-5adca39217f2",
   "metadata": {
    "language": "sql",
    "name": "c2"
   },
   "source": "--Create NASPCS role and Grant Privileges\nuse role accountadmin;\ncreate role if not exists naspcs_role;\ngrant role naspcs_role to role accountadmin;\ngrant create integration on account to role naspcs_role;\ngrant create compute pool on account to role naspcs_role;\ngrant create warehouse on account to role naspcs_role;\ngrant create database on account to role naspcs_role;\ngrant create application package on account to role naspcs_role;\ngrant create application on account to role naspcs_role with grant option;\ngrant bind service endpoint on account to role naspcs_role;\n",
   "execution_count": null,
   "outputs": []
  },
  {
   "cell_type": "code",
   "id": "dfa92408-e66f-4489-9396-d789a657fabd",
   "metadata": {
    "language": "sql",
    "name": "c3"
   },
   "outputs": [],
   "source": "--Create SCPS_APP Database to Store Application Files and Container Images\nuse role naspcs_role;\ncreate database if not exists spcs_app;\ncreate schema if not exists spcs_app.napp;\ncreate stage if not exists spcs_app.napp.app_stage;\ncreate image repository if not exists spcs_app.napp.img_repo;\ncreate warehouse if not exists wh_nap with warehouse_size='xsmall';",
   "execution_count": null
  },
  {
   "cell_type": "markdown",
   "id": "5dcb4497-aa1d-47a0-883d-5aea114f4735",
   "metadata": {
    "name": "c4",
    "collapsed": false
   },
   "source": "#### Consumer Privilege Setup"
  },
  {
   "cell_type": "code",
   "id": "d7275fd8-5414-4282-841f-fa881eaeeec7",
   "metadata": {
    "language": "sql",
    "name": "c5"
   },
   "outputs": [],
   "source": "--Create NAC role and Grant Privileges\nuse role accountadmin;\ncreate role if not exists nac;\ngrant role nac to role accountadmin;\ncreate warehouse if not exists wh_nac with warehouse_size='xsmall';\ngrant usage on warehouse wh_nac to role nac with grant option;\ngrant imported privileges on database snowflake_sample_data to role nac;\ngrant create database on account to role nac;\ngrant bind service endpoint on account to role nac with grant option;\ngrant create compute pool on account to role nac;\ngrant create application on account to role nac;",
   "execution_count": null
  },
  {
   "cell_type": "code",
   "id": "1aaac2e5-2d70-41fc-9523-388eb714cfcd",
   "metadata": {
    "language": "sql",
    "name": "c6"
   },
   "outputs": [],
   "source": "--Create Consumer Test Data Database\nuse role nac;\ncreate database if not exists nac_test;\ncreate schema if not exists nac_test.data;\nuse schema nac_test.data;\ncreate view if not exists orders as select * from snowflake_sample_data.tpch_sf10.orders;",
   "execution_count": null
  },
  {
   "cell_type": "markdown",
   "id": "0e48d30e-23ad-4ae2-9e65-1aa1c09ca3a3",
   "metadata": {
    "name": "c7",
    "collapsed": false
   },
   "source": "#### Build and Upload Container Images\n"
  },
  {
   "cell_type": "code",
   "id": "5fc9e3c1-55a4-4ab4-b758-de8410f3d556",
   "metadata": {
    "language": "sql",
    "name": "c8"
   },
   "outputs": [],
   "source": "use role naspcs_role;\nshow image repositories in schema spcs_app.napp;",
   "execution_count": null
  },
  {
   "cell_type": "markdown",
   "id": "e853928e-55d8-44f1-b633-ea3ac90fbdde",
   "metadata": {
    "name": "c9",
    "collapsed": false
   },
   "source": "#### Create Application Package"
  },
  {
   "cell_type": "code",
   "id": "ea4f9baa-1575-4b59-9583-a73b572a2c1b",
   "metadata": {
    "language": "sql",
    "name": "c10"
   },
   "outputs": [],
   "source": "--Create Application Package and Grant Consumer Role Privileges\nuse role naspcs_role;\ncreate application package spcs_app_pkg;\nalter application package spcs_app_pkg add version v1 using @spcs_app.napp.app_stage;\ngrant install, develop on application package spcs_app_pkg to role nac;",
   "execution_count": null
  },
  {
   "cell_type": "markdown",
   "id": "d66ef3da-86ac-4a8f-a86c-b4c6d1eb0e50",
   "metadata": {
    "name": "c11",
    "collapsed": false
   },
   "source": "#### Install & Run Application"
  },
  {
   "cell_type": "code",
   "id": "d9616e01-8a7a-424b-8538-58167730bbee",
   "metadata": {
    "language": "sql",
    "name": "c12"
   },
   "outputs": [],
   "source": "--Install App as the Consumer\nuse role nac;\ncreate application spcs_app_instance from application package spcs_app_pkg using version v1;\n",
   "execution_count": null
  },
  {
   "cell_type": "code",
   "id": "4aa5de86-ba5d-45c2-bf03-c899673e462a",
   "metadata": {
    "language": "sql",
    "name": "c13"
   },
   "outputs": [],
   "source": "--Create Compute Pool and Grant Privileges\nuse database nac_test;\nuse role nac;\ncreate  compute pool pool_nac for application spcs_app_instance\n    min_nodes = 1 max_nodes = 1\n    instance_family = cpu_x64_s\n    auto_resume = true;\n\ngrant usage on compute pool pool_nac to application spcs_app_instance;\ngrant usage on warehouse wh_nac to application spcs_app_instance;\ngrant bind service endpoint on account to application spcs_app_instance;\nCALL spcs_app_instance.v1.register_single_callback(\n  'ORDERS_TABLE' , 'ADD', SYSTEM$REFERENCE('VIEW', 'NAC_TEST.DATA.ORDERS', 'PERSISTENT', 'SELECT'));",
   "execution_count": null
  },
  {
   "cell_type": "code",
   "id": "865f3083-c708-4def-861c-83ce8a742b69",
   "metadata": {
    "language": "sql",
    "name": "c14"
   },
   "outputs": [],
   "source": "--Start App Service\ncall spcs_app_instance.app_public.start_app('POOL_NAC', 'WH_NAC');",
   "execution_count": null
  },
  {
   "cell_type": "code",
   "id": "970eaf27-34ee-43fe-bb00-5d3b1ec012ab",
   "metadata": {
    "language": "sql",
    "name": "c15"
   },
   "outputs": [],
   "source": "--After running the above command you can run the following command to determine when the Service Endpoint is ready \n--Copy the endpoint, paste into a browser, and authenticate to the Snowflake account using the same credentials you've been using to log into Snowflake\ncall spcs_app_instance.app_public.app_url();",
   "execution_count": null
  },
  {
   "cell_type": "markdown",
   "id": "6657eae8-0110-4dba-ba21-d87facf64621",
   "metadata": {
    "name": "c16",
    "collapsed": false
   },
   "source": "#### Clean up scripts"
  },
  {
   "cell_type": "code",
   "id": "c703ce02-815f-41e7-901f-5e1fa6c8f872",
   "metadata": {
    "language": "sql",
    "name": "c17"
   },
   "outputs": [],
   "source": "--clean up consumer objects\nuse role nac;\ndrop application spcs_app_instance;\ndrop compute pool pool_nac;\ndrop database nac_test;\n\n--clean up provider objects\nuse role naspcs_role;\ndrop application package spcs_app_pkg;\ndrop database spcs_app;\ndrop warehouse wh_nap;\n\n--clean up prep objects\nuse role accountadmin;\ndrop warehouse wh_nac;\ndrop role naspcs_role;\ndrop role nac;",
   "execution_count": null
  }
 ]
}